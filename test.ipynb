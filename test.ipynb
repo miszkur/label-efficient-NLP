{
 "cells": [
  {
   "cell_type": "code",
   "execution_count": 1,
   "metadata": {},
   "outputs": [],
   "source": [
    "from data_processing.ev_parser import create_dataset"
   ]
  },
  {
   "cell_type": "code",
   "execution_count": 2,
   "metadata": {},
   "outputs": [],
   "source": [
    "ds = create_dataset()"
   ]
  },
  {
   "cell_type": "code",
   "execution_count": 3,
   "metadata": {},
   "outputs": [
    {
     "name": "stdout",
     "output_type": "stream",
     "text": [
      "(<tf.Tensor: shape=(32,), dtype=string, numpy=\n",
      "array([b'No problem charging leaf. ',\n",
      "       b'This building is not \"Available for Lease\" it is in fact an unlabeled Google building.  Using a public ChargePoint Card gives \"Authorization Failed: Restricted Use\" message.  The unit also shows a Google station ID that scrolls by on the display.  Please change this to a Restricted Use station.',\n",
      "       b'Accessible 24 hours!',\n",
      "       b'Station #2 would not charge. Called Charge-point they said not on line yet',\n",
      "       b'Called company and spoke with multiple people. Had no ideas as to problem. Beware of this plug!',\n",
      "       b'someone please validate this CCS charger',\n",
      "       b'This is one charging station that is very reliable and in the 9 months that I have been using it not once has it ever been out of service. Would be great if Jackson EMC installed an L3 charging station here!',\n",
      "       b'DC is out of order',\n",
      "       b\"The last three times I have been here, someone is always ICE'ing one of the two chargers. Uncool. Luckily, I've been able to charge at the free one each time.\",\n",
      "       b'Stop number six on my trip back to Seattle from Sacramento. ',\n",
      "       b'Fast charged and working great!!',\n",
      "       b'charging at the outlet mall but 1 mile to the casino',\n",
      "       b\"I don't know why, but the L2 charger took 10 hours to charge my 500e as opposed to the 4 hour charge time I get at a neighboring blink station. I love the setup here and prefer this location to other lots, but I think there might be something wrong with the L2 charger. \",\n",
      "       b'Peak charging power: 30 amps, 208 volts',\n",
      "       b\"I found the L3 EVSE to be on the opposite side of the parking garage level 1 floor (near the perimeter road), thus it is not next or near the Level-2 J1772 EVSE near the Center's stores. Also, an email from Will Beckett confirms what I saw,\\nthe L3 EVSE has a physical problem: the strain relief on the L3 coupler cable came lose (or was never installed correctly), thus that cable is possibly hanging by its  connected wires. If you use the L3 EVSE, be gentle with that cable. Drivers should send an email to the Center stating the cable needs fixing, and there is needs to be EV-Only signage at the 5 ft height to keep ice out. Use http://www.simon.com/mall/guestservices.aspx?id=841 to send in a maintenance request.\",\n",
      "       b'Screen still not working but per previous user the unit is still operational. However it took me a few times to get it going because I really never paid attention to the process and committed to memory. Simply tap your card until the blue light flashes then, for CHAdeMO, push the upper right-hand button three times and blue light should go solid and begin charging. ',\n",
      "       b'Finally down to 5amps ! Unusable', b'removed quick charger',\n",
      "       b'9/8/2015 @ 3pm - Spark EV charged w/o any problems.  I taught my start and stop a charging cycle.  Nice location.',\n",
      "       b'Both spaces occupied by non-electrics on a Saturday. Charger number one was non-operational. May be possible to charge from behind the unit in next parking lot.',\n",
      "       b'Charger is in the back on the further most service bay to the right on the wall just inside the bay.  Plugged in and started charging right away. ',\n",
      "       b'One charger is down and the other charger is broken.',\n",
      "       b'Station worked great. Was able to charge a bit while having a snack for lunch.',\n",
      "       b'We went to the Zoo today and fortunately there were two plugs open. But, when we returned there were regular cars parked in all the other slots except 1. I think the gas guzzlers that were parked in those spaces should be ticketed. If I needed the plug, I would have double parked in back of the car and left my telephone number on their windshield to call me when they wanted to leave. I know parking is at a premium at the zoo but come on people I know you can read!!!!!',\n",
      "       b'Topped off on our way to Des Moines. Great restaurant/brewery! No issues charging. ',\n",
      "       b'called in the left side screen faded to blue after I hit continue and tried to connect ',\n",
      "       b'Not hard to find. Always fuel cars parked at the stations. Employee cars at that. ',\n",
      "       b'L3 down. One L2 is down. ', b'CHAdeMO',\n",
      "       b'2/5/14 stations clear of snow and light working.',\n",
      "       b\"my husband's car ---I was totally confused-- the salesman, Omar saved my day, hooked  me up,  got me popcorn and invited me into the air conditioned comfort of their showroom -- awesome!!!\",\n",
      "       b'Could not read my EZCharge card.  Tried both chargers.'],\n",
      "      dtype=object)>, <tf.Tensor: shape=(32, 8), dtype=int32, numpy=\n",
      "array([[1, 0, 0, 0, 0, 0, 0, 0],\n",
      "       [1, 0, 0, 0, 1, 1, 0, 0],\n",
      "       [0, 0, 0, 0, 0, 1, 0, 0],\n",
      "       [1, 0, 0, 0, 0, 0, 0, 0],\n",
      "       [1, 0, 0, 0, 0, 1, 0, 0],\n",
      "       [1, 0, 0, 0, 1, 0, 0, 0],\n",
      "       [1, 0, 0, 0, 0, 1, 0, 0],\n",
      "       [1, 0, 0, 0, 0, 0, 0, 0],\n",
      "       [1, 0, 1, 0, 0, 0, 0, 0],\n",
      "       [0, 1, 0, 0, 0, 0, 0, 0],\n",
      "       [1, 0, 0, 0, 0, 0, 0, 0],\n",
      "       [0, 0, 0, 0, 0, 1, 0, 0],\n",
      "       [1, 0, 0, 0, 0, 0, 1, 0],\n",
      "       [1, 0, 0, 0, 0, 0, 0, 0],\n",
      "       [1, 0, 1, 0, 1, 1, 0, 0],\n",
      "       [1, 0, 0, 0, 1, 0, 0, 0],\n",
      "       [0, 0, 0, 0, 0, 0, 1, 0],\n",
      "       [1, 0, 1, 0, 0, 0, 0, 0],\n",
      "       [1, 0, 0, 0, 0, 1, 0, 1],\n",
      "       [1, 0, 1, 0, 0, 1, 0, 0],\n",
      "       [1, 0, 0, 0, 0, 1, 0, 0],\n",
      "       [1, 0, 0, 0, 0, 0, 0, 0],\n",
      "       [1, 0, 0, 0, 0, 0, 0, 0],\n",
      "       [1, 0, 1, 0, 1, 1, 0, 0],\n",
      "       [1, 1, 0, 0, 0, 1, 0, 0],\n",
      "       [1, 0, 0, 0, 0, 0, 0, 0],\n",
      "       [0, 0, 1, 0, 0, 1, 0, 0],\n",
      "       [1, 0, 0, 0, 0, 0, 0, 0],\n",
      "       [1, 0, 0, 0, 0, 0, 0, 0],\n",
      "       [0, 0, 0, 0, 1, 1, 0, 0],\n",
      "       [0, 0, 0, 0, 0, 1, 0, 0],\n",
      "       [1, 0, 0, 0, 0, 0, 0, 0]], dtype=int32)>)\n"
     ]
    }
   ],
   "source": [
    "for i in ds.take(1):\n",
    "    print(i)"
   ]
  }
 ],
 "metadata": {
  "interpreter": {
   "hash": "b95296a527a698334e08c33ad27f38adda0cc9d7ac330df83bf5727d27d5b2d0"
  },
  "kernelspec": {
   "display_name": "new_ml_stuff:pyenv",
   "language": "python",
   "name": "python3"
  },
  "language_info": {
   "codemirror_mode": {
    "name": "ipython",
    "version": 3
   },
   "file_extension": ".py",
   "mimetype": "text/x-python",
   "name": "python",
   "nbconvert_exporter": "python",
   "pygments_lexer": "ipython3",
   "version": "3.8.5"
  },
  "orig_nbformat": 4
 },
 "nbformat": 4,
 "nbformat_minor": 2
}
