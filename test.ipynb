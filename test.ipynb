{
 "cells": [
  {
   "cell_type": "code",
   "execution_count": 1,
   "metadata": {},
   "outputs": [],
   "source": [
    "from data_processing.semeval_parser import create_dataset"
   ]
  },
  {
   "cell_type": "code",
   "execution_count": 2,
   "metadata": {},
   "outputs": [],
   "source": [
    "ds = create_dataset()"
   ]
  },
  {
   "cell_type": "code",
   "execution_count": 3,
   "metadata": {},
   "outputs": [
    {
     "name": "stdout",
     "output_type": "stream",
     "text": [
      "(<tf.Tensor: shape=(32,), dtype=string, numpy=\n",
      "array([b'Great Indian food and the service is incredible.',\n",
      "       b\"The ambience was nice, but service wasn't so great.\",\n",
      "       b'After reading the good reviews of this restaurant, I decided to give it a try with two friends.',\n",
      "       b\"Try the hot dogs too, they're snappy and delicious.\",\n",
      "       b'Try the tandoori salmon!',\n",
      "       b'I was turned on to this restaurant by a fellow foodie friend of mine, and have been going back regularly ever since.',\n",
      "       b'The place itself is beautiful the bar scene seems to be happening.',\n",
      "       b'Odd for Ave B, not just odd, The place attracts an eclectic crowd to say the least.',\n",
      "       b'Despite a slightly limited menu, everything prepared is done to perfection, ultra fresh and a work of food art.',\n",
      "       b'I had their eggs benedict for brunch, which were the worst in my entire life, I tried removing the hollondaise sauce completely that was how failed it was.',\n",
      "       b'Hats off to the chef.',\n",
      "       b'I will have to say, this Bengali Fast Food joint is clearly my favorite.',\n",
      "       b\"Aside from the bearded, courdoroy blazer professor type with the NYU student he's sleeping with that week, you see a strange mix of hipsters, frat boys, Will Smith types who need to be told they are black, bitter cougars who cant understand why they arent married yet....\",\n",
      "       b'This is a wonderful place on all stand points especially value ofr money.',\n",
      "       b'This is one great place to eat pizza more out but not a good place for take-out pizza.',\n",
      "       b'I pray it stays open forever.',\n",
      "       b'I must say the view of NYC is so beautiful!',\n",
      "       b'One of the more authentic Shanghainese restaurants in the US definitely the best in Manhattan Chinatown.',\n",
      "       b'otherwise, good stuff for late nite eats.',\n",
      "       b\"I'm told that it is open 24hrs which is good.\",\n",
      "       b'My first encounter happened one friday evening with a friend.',\n",
      "       b'If you like spicy food get the chicken vindaloo.',\n",
      "       b\"For $760 for 2 people, it's a once in a lifetime experience.\",\n",
      "       b'I went to this restaurant with a woman that I met recently.',\n",
      "       b'I also ordered for delivery and the restaurant forgot half the order.',\n",
      "       b'Definately check it out!!!',\n",
      "       b\"It's a much more grown up restaurant compared to the rest of the street.\",\n",
      "       b\"Don't go.\", b'Just ignore the trendy wannabes.',\n",
      "       b'The food was pretty good, but a little flavorless and the portions very small, including dessert.',\n",
      "       b'The only thing more wonderful than the food (which is exceptional) is the service.',\n",
      "       b'The table next to us asked if he crushed the grapes himself when their long overdue bottle of wine finally arrived.'],\n",
      "      dtype=object)>, <tf.Tensor: shape=(32, 5), dtype=int32, numpy=\n",
      "array([[0, 0, 1, 0, 1],\n",
      "       [1, 0, 0, 0, 1],\n",
      "       [0, 1, 0, 0, 0],\n",
      "       [0, 0, 1, 0, 0],\n",
      "       [0, 0, 1, 0, 0],\n",
      "       [0, 1, 0, 0, 0],\n",
      "       [1, 0, 0, 0, 0],\n",
      "       [1, 0, 0, 0, 0],\n",
      "       [0, 0, 1, 0, 0],\n",
      "       [0, 0, 1, 0, 0],\n",
      "       [0, 0, 1, 0, 0],\n",
      "       [0, 1, 0, 0, 0],\n",
      "       [1, 0, 0, 0, 0],\n",
      "       [0, 0, 0, 1, 0],\n",
      "       [0, 0, 1, 0, 0],\n",
      "       [0, 1, 0, 0, 0],\n",
      "       [1, 0, 0, 0, 0],\n",
      "       [0, 1, 0, 0, 0],\n",
      "       [0, 0, 1, 0, 0],\n",
      "       [0, 1, 0, 0, 0],\n",
      "       [0, 1, 0, 0, 0],\n",
      "       [0, 0, 1, 0, 0],\n",
      "       [0, 0, 0, 1, 0],\n",
      "       [0, 1, 0, 0, 0],\n",
      "       [0, 0, 0, 0, 1],\n",
      "       [0, 1, 0, 0, 0],\n",
      "       [1, 0, 0, 0, 0],\n",
      "       [0, 1, 0, 0, 0],\n",
      "       [0, 1, 0, 0, 0],\n",
      "       [0, 0, 1, 0, 0],\n",
      "       [0, 0, 1, 0, 1],\n",
      "       [0, 0, 0, 0, 1]], dtype=int32)>)\n"
     ]
    }
   ],
   "source": [
    "for i in ds.take(1):\n",
    "    print(i)"
   ]
  }
 ],
 "metadata": {
  "interpreter": {
   "hash": "b95296a527a698334e08c33ad27f38adda0cc9d7ac330df83bf5727d27d5b2d0"
  },
  "kernelspec": {
   "display_name": "new_ml_stuff:pyenv",
   "language": "python",
   "name": "python3"
  },
  "language_info": {
   "codemirror_mode": {
    "name": "ipython",
    "version": 3
   },
   "file_extension": ".py",
   "mimetype": "text/x-python",
   "name": "python",
   "nbconvert_exporter": "python",
   "pygments_lexer": "ipython3",
   "version": "3.8.5"
  },
  "orig_nbformat": 4
 },
 "nbformat": 4,
 "nbformat_minor": 2
}
